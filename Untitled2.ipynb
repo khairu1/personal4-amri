{
 "cells": [
  {
   "cell_type": "code",
   "execution_count": 2,
   "id": "d30fc245",
   "metadata": {},
   "outputs": [
    {
     "name": "stdout",
     "output_type": "stream",
     "text": [
      "['Milk', 'Cheese', 'Butter']\n"
     ]
    }
   ],
   "source": [
    "shoppingList = ['Milk', 'Cheese', 'Butter']\n",
    "print(shoppingList)"
   ]
  },
  {
   "cell_type": "code",
   "execution_count": 11,
   "id": "30174918",
   "metadata": {},
   "outputs": [
    {
     "ename": "SyntaxError",
     "evalue": "invalid syntax (3848446174.py, line 2)",
     "output_type": "error",
     "traceback": [
      "\u001b[1;36m  Input \u001b[1;32mIn [11]\u001b[1;36m\u001b[0m\n\u001b[1;33m    shoppingList[i] = shoppingList[i]:\u001b[0m\n\u001b[1;37m                                     ^\u001b[0m\n\u001b[1;31mSyntaxError\u001b[0m\u001b[1;31m:\u001b[0m invalid syntax\n"
     ]
    }
   ],
   "source": [
    "for i in range(len(shoppingList)):\n",
    "    shoppingList[i] = shoppingList[i]+\\\"+\\\"\n",
    "        print(shoppingList[i])\n",
    "    empty = []\n",
    "    for i in empty:\n",
    "           print(\\\"I am empty\\\")"
   ]
  },
  {
   "cell_type": "code",
   "execution_count": 12,
   "id": "a3d42d3c",
   "metadata": {},
   "outputs": [
    {
     "name": "stdout",
     "output_type": "stream",
     "text": [
      "[1, 2, 3, 4, 5, 6, 7]\n"
     ]
    }
   ],
   "source": [
    "myList = [1,2,3,4,5,6,7]\n",
    "print(myList)"
   ]
  },
  {
   "cell_type": "code",
   "execution_count": 13,
   "id": "946a5019",
   "metadata": {},
   "outputs": [
    {
     "name": "stdout",
     "output_type": "stream",
     "text": [
      "[1, 2, 3, 4, 15, 5, 6, 7]\n"
     ]
    }
   ],
   "source": [
    "myList.insert(4,15)\n",
    "print(myList)"
   ]
  },
  {
   "cell_type": "code",
   "execution_count": 14,
   "id": "00a849d3",
   "metadata": {},
   "outputs": [
    {
     "name": "stdout",
     "output_type": "stream",
     "text": [
      "[1, 2, 3, 4, 15, 5, 6, 7, 55]\n"
     ]
    }
   ],
   "source": [
    "myList.append(55)\n",
    "print(myList)"
   ]
  },
  {
   "cell_type": "code",
   "execution_count": 15,
   "id": "866ef23d",
   "metadata": {},
   "outputs": [
    {
     "name": "stdout",
     "output_type": "stream",
     "text": [
      "[1, 2, 3, 4, 15, 5, 6, 7, 55, 11, 12, 13, 14]\n"
     ]
    }
   ],
   "source": [
    "newList = [11,12,13,14]\n",
    "myList.extend(newList)\n",
    "print(myList)"
   ]
  },
  {
   "cell_type": "code",
   "execution_count": 16,
   "id": "067ec6b7",
   "metadata": {},
   "outputs": [],
   "source": [
    "def searchinList(list, value):\n",
    "    for i in list:\n",
    "        if i == value:\n",
    "            return list.index(value)\n",
    "    return 'The value does not exist in the list'\n",
    "\n",
    "    print(searchinList(myList, 100))"
   ]
  },
  {
   "cell_type": "code",
   "execution_count": null,
   "id": "2fba2f83",
   "metadata": {},
   "outputs": [
    {
     "name": "stdout",
     "output_type": "stream",
     "text": [
      "Enter a number: 7\n",
      "Average: 7.0\n",
      "Enter a number: 5\n",
      "Average: 6.0\n"
     ]
    }
   ],
   "source": [
    "total = 0 \n",
    "count = 0\n",
    "while (True):\n",
    "    inp = input('Enter a number: ') \n",
    "    if inp == 'done': break\n",
    "    value = float(inp)\n",
    "    total = total + value\n",
    "    count = count + 1 \n",
    "    average = total / count\n",
    "    \n",
    "    print('Average:', average)"
   ]
  },
  {
   "cell_type": "code",
   "execution_count": null,
   "id": "4f92e026",
   "metadata": {},
   "outputs": [],
   "source": [
    "numlist = list() \n",
    "    while (True):\n",
    "        inp = input('Enter a number: \n",
    "        if inp == 'done': break\n",
    "        value = float(inp)\n",
    "        numlist.append(value)\n",
    "   \n",
    "        average = sum(numlist) / len(numlist) \n",
    "    print('Average:', average)"
   ]
  },
  {
   "cell_type": "code",
   "execution_count": null,
   "id": "6d5bb4d4",
   "metadata": {},
   "outputs": [],
   "source": []
  }
 ],
 "metadata": {
  "kernelspec": {
   "display_name": "Python 3 (ipykernel)",
   "language": "python",
   "name": "python3"
  },
  "language_info": {
   "codemirror_mode": {
    "name": "ipython",
    "version": 3
   },
   "file_extension": ".py",
   "mimetype": "text/x-python",
   "name": "python",
   "nbconvert_exporter": "python",
   "pygments_lexer": "ipython3",
   "version": "3.9.12"
  }
 },
 "nbformat": 4,
 "nbformat_minor": 5
}

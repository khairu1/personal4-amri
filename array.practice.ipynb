{
 "cells": [
  {
   "cell_type": "code",
   "execution_count": 2,
   "id": "a7827ced",
   "metadata": {},
   "outputs": [
    {
     "name": "stdout",
     "output_type": "stream",
     "text": [
      "[1, 3, 5, 7, 9]\n"
     ]
    }
   ],
   "source": [
    "#   Created by Elshad Karimov on 23/04/2020.\n",
    "#   Copyright © 2020 AppMillers. All rights reserved.\n",
    "\n",
    "# Q-1. What will be the output of the following code block?\n",
    "a=[1,2,3,4,5,6,7,8,9]\n",
    "print(a[::2])"
   ]
  },
  {
   "cell_type": "code",
   "execution_count": 4,
   "id": "4688865f",
   "metadata": {},
   "outputs": [
    {
     "name": "stdout",
     "output_type": "stream",
     "text": [
      "[10, 20, 30, 40, 50, 60, 3, 4, 5, 6, 7, 8, 9]\n"
     ]
    }
   ],
   "source": [
    "# Q-2. What will be the output of the following code snippet?\n",
    "\n",
    "a=[1,2,3,4,5,6,7,8,9]\n",
    "a[:2]=10,20,30,40,50,60\n",
    "print(a)"
   ]
  },
  {
   "cell_type": "code",
   "execution_count": 5,
   "id": "56caca99",
   "metadata": {},
   "outputs": [
    {
     "name": "stdout",
     "output_type": "stream",
     "text": [
      "[4, 3, 2]\n"
     ]
    }
   ],
   "source": [
    "# Q-3. What will be the output of the following code snippet?\n",
    "\n",
    "a=[1,2,3,4,5]\n",
    "print(a[3:0:-1])\n",
    "# A. Syntax error\n",
    "# B. [4, 3, 2]\n",
    "# C. [4, 3]\n",
    "# D. [4, 3, 2, 1]\n"
   ]
  },
  {
   "cell_type": "code",
   "execution_count": 6,
   "id": "651dba8a",
   "metadata": {},
   "outputs": [
    {
     "name": "stdout",
     "output_type": "stream",
     "text": [
      "3 44\n"
     ]
    }
   ],
   "source": [
    "# Q-4. What will be the output of the following code snippet?\n",
    "\n",
    "def f(value, values):\n",
    "    v = 1\n",
    "    values[0] = 44\n",
    "t = 3\n",
    "v = [1, 2, 3]\n",
    "f(t, v)\n",
    "print(t, v[0])"
   ]
  },
  {
   "cell_type": "code",
   "execution_count": 8,
   "id": "26f5ab8b",
   "metadata": {},
   "outputs": [
    {
     "name": "stdout",
     "output_type": "stream",
     "text": [
      "['apple', 'banana', 'papaya', 'cherry']\n"
     ]
    }
   ],
   "source": [
    "# Q-5. What is the correct command to shuffle the following list?\n",
    "\n",
    "fruit=['apple', 'banana', 'papaya', 'cherry']\n",
    "print(fruit)"
   ]
  },
  {
   "cell_type": "code",
   "execution_count": 9,
   "id": "72b72242",
   "metadata": {},
   "outputs": [
    {
     "name": "stdout",
     "output_type": "stream",
     "text": [
      "4\n"
     ]
    }
   ],
   "source": [
    "# Q-6. What will be the output of the following code snippet?\n",
    "\n",
    "data = [[[1, 2], [3, 4]], [[5, 6], [7, 8]]]\n",
    "def fun(m):\n",
    "    v = m[0][0]\n",
    "\n",
    "    for row in m:\n",
    "        for element in row:\n",
    "            if v < element: v = element\n",
    "\n",
    "    return v\n",
    "print(fun(data[0]))"
   ]
  },
  {
   "cell_type": "code",
   "execution_count": 10,
   "id": "98e6a243",
   "metadata": {},
   "outputs": [
    {
     "name": "stdout",
     "output_type": "stream",
     "text": [
      "4\n",
      "7\n",
      "11\n",
      "15\n"
     ]
    }
   ],
   "source": [
    "# Q-7. What will be the output of the following code snippet?\n",
    "\n",
    "arr = [[1, 2, 3, 4],\n",
    "       [4, 5, 6, 7],\n",
    "       [8, 9, 10, 11],\n",
    "       [12, 13, 14, 15]]\n",
    "for i in range(0, 4):\n",
    "    print(arr[i].pop())"
   ]
  },
  {
   "cell_type": "code",
   "execution_count": 12,
   "id": "bbe64042",
   "metadata": {},
   "outputs": [
    {
     "name": "stdout",
     "output_type": "stream",
     "text": [
      "[1]\n",
      "[1, 2]\n",
      "[1, 2, 3]\n"
     ]
    },
    {
     "data": {
      "text/plain": [
       "[1, 2, 3]"
      ]
     },
     "execution_count": 12,
     "metadata": {},
     "output_type": "execute_result"
    }
   ],
   "source": [
    "# Q-8. What will be the output of the following code snippet?\n",
    "\n",
    "def f(i, values = []):\n",
    "    values.append(i)\n",
    "    print (values)\n",
    "    return values\n",
    "f(1)\n",
    "f(2)\n",
    "f(3)"
   ]
  },
  {
   "cell_type": "code",
   "execution_count": 13,
   "id": "df7bbf76",
   "metadata": {},
   "outputs": [
    {
     "name": "stdout",
     "output_type": "stream",
     "text": [
      "2 3 4 5 6 6 "
     ]
    }
   ],
   "source": [
    "# Q-9. What will be the output of the following code snippet?\n",
    "\n",
    "arr = [1, 2, 3, 4, 5, 6]\n",
    "for i in range(1, 6):\n",
    "    arr[i - 1] = arr[i]\n",
    "for i in range(0, 6): \n",
    "    print(arr[i], end = \" \")"
   ]
  },
  {
   "cell_type": "code",
   "execution_count": 14,
   "id": "78d0660a",
   "metadata": {},
   "outputs": [
    {
     "name": "stdout",
     "output_type": "stream",
     "text": [
      "22\n"
     ]
    }
   ],
   "source": [
    "# Q-10. What will be the output of the following code snippet?\n",
    "\n",
    "fruit_list1 = ['Apple', 'Berry', 'Cherry', 'Papaya']\n",
    "fruit_list2 = fruit_list1\n",
    "fruit_list3 = fruit_list1[:]\n",
    "\n",
    "fruit_list2[0] = 'Guava'\n",
    "fruit_list3[1] = 'Kiwi'\n",
    "\n",
    "sum = 0\n",
    "for ls in (fruit_list1, fruit_list2, fruit_list3):\n",
    "    if ls[0] == 'Guava':\n",
    "        sum += 1\n",
    "    if ls[1] == 'Kiwi':\n",
    "        sum += 20\n",
    "\n",
    "print(sum)"
   ]
  },
  {
   "cell_type": "code",
   "execution_count": null,
   "id": "596259b4",
   "metadata": {},
   "outputs": [],
   "source": []
  }
 ],
 "metadata": {
  "kernelspec": {
   "display_name": "Python 3 (ipykernel)",
   "language": "python",
   "name": "python3"
  },
  "language_info": {
   "codemirror_mode": {
    "name": "ipython",
    "version": 3
   },
   "file_extension": ".py",
   "mimetype": "text/x-python",
   "name": "python",
   "nbconvert_exporter": "python",
   "pygments_lexer": "ipython3",
   "version": "3.9.12"
  }
 },
 "nbformat": 4,
 "nbformat_minor": 5
}

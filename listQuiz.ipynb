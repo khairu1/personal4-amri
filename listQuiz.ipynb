{
 "cells": [
  {
   "cell_type": "code",
   "execution_count": 1,
   "id": "e8e7fb41",
   "metadata": {},
   "outputs": [
    {
     "name": "stdout",
     "output_type": "stream",
     "text": [
      "1\n",
      "2\n",
      "3\n",
      "4\n",
      "5\n"
     ]
    }
   ],
   "source": [
    "#   Created by Elshad Karimov on 04/04/2020.\n",
    "#   Copyright © 2020 AppMillers. All rights reserved.\n",
    "from array import *\n",
    "\n",
    "# 1. Create an array and traverse. \n",
    "\n",
    "my_array = array('i',[1,2,3,4,5])\n",
    "\n",
    "for i in my_array:\n",
    "    print(i)"
   ]
  },
  {
   "cell_type": "code",
   "execution_count": 2,
   "id": "93451281",
   "metadata": {},
   "outputs": [
    {
     "name": "stdout",
     "output_type": "stream",
     "text": [
      "Step 2\n",
      "4\n"
     ]
    }
   ],
   "source": [
    "# 2. Access individual elements through indexes\n",
    "print(\"Step 2\")\n",
    "print(my_array[3])"
   ]
  },
  {
   "cell_type": "code",
   "execution_count": 3,
   "id": "9cb8423e",
   "metadata": {},
   "outputs": [
    {
     "name": "stdout",
     "output_type": "stream",
     "text": [
      "Step 3\n",
      "array('i', [1, 2, 3, 4, 5, 6])\n"
     ]
    }
   ],
   "source": [
    "# 3. Append any value to the array using append() method\n",
    "\n",
    "print(\"Step 3\")\n",
    "my_array.append(6)\n",
    "print(my_array)"
   ]
  },
  {
   "cell_type": "code",
   "execution_count": 4,
   "id": "dc55e9e9",
   "metadata": {},
   "outputs": [
    {
     "name": "stdout",
     "output_type": "stream",
     "text": [
      "Step 4\n",
      "array('i', [1, 2, 3, 11, 4, 5, 6])\n"
     ]
    }
   ],
   "source": [
    "# 4. Insert value in an array using insert() method\n",
    "print(\"Step 4\")\n",
    "my_array.insert(3, 11)\n",
    "print(my_array)"
   ]
  },
  {
   "cell_type": "code",
   "execution_count": 6,
   "id": "8d646495",
   "metadata": {},
   "outputs": [
    {
     "name": "stdout",
     "output_type": "stream",
     "text": [
      "Step 5\n",
      "array('i', [21, 20, 12, 11, 10, 6, 5, 4, 3, 2, 1, 11, 10, 11, 12])\n"
     ]
    }
   ],
   "source": [
    "# 5. Extend python array using extend() method\n",
    "print(\"Step 5\")\n",
    "my_array1 = array('i', [10,11,12])\n",
    "my_array.extend(my_array1)\n",
    "print(my_array)"
   ]
  },
  {
   "cell_type": "code",
   "execution_count": 7,
   "id": "d3524f4e",
   "metadata": {},
   "outputs": [
    {
     "name": "stdout",
     "output_type": "stream",
     "text": [
      "Step 6\n",
      "array('i', [21, 20, 12, 11, 10, 6, 5, 4, 3, 2, 1, 11, 10, 11, 12, 20, 21, 22])\n"
     ]
    }
   ],
   "source": [
    "# 6. Add items from list into array using fromlist() method\n",
    "print(\"Step 6\")\n",
    "tempList = [20,21,22]\n",
    "my_array.fromlist(tempList)\n",
    "print(my_array)"
   ]
  },
  {
   "cell_type": "code",
   "execution_count": 8,
   "id": "5ffbdcba",
   "metadata": {},
   "outputs": [
    {
     "name": "stdout",
     "output_type": "stream",
     "text": [
      "Step 7\n",
      "array('i', [21, 20, 12, 10, 6, 5, 4, 3, 2, 1, 11, 10, 11, 12, 20, 21, 22])\n"
     ]
    }
   ],
   "source": [
    "# 7. Remove any array element using remove() method\n",
    "print(\"Step 7\")\n",
    "my_array.remove(11)\n",
    "print(my_array)"
   ]
  },
  {
   "cell_type": "code",
   "execution_count": 9,
   "id": "7588fcb3",
   "metadata": {},
   "outputs": [
    {
     "name": "stdout",
     "output_type": "stream",
     "text": [
      "Step 8\n",
      "array('i', [21, 20, 12, 10, 6, 5, 4, 3, 2, 1, 11, 10, 11, 12, 20, 21])\n"
     ]
    }
   ],
   "source": [
    "# 8. Remove last array element using pop() method\n",
    "print(\"Step 8\")\n",
    "my_array.pop()\n",
    "print(my_array)"
   ]
  },
  {
   "cell_type": "code",
   "execution_count": 10,
   "id": "90a1ce9d",
   "metadata": {},
   "outputs": [
    {
     "name": "stdout",
     "output_type": "stream",
     "text": [
      "Step 9\n",
      "0\n"
     ]
    }
   ],
   "source": [
    "# 9. Fetch any element through its index using index() method\n",
    "print(\"Step 9\")\n",
    "print(my_array.index(21))"
   ]
  },
  {
   "cell_type": "code",
   "execution_count": 11,
   "id": "b421793e",
   "metadata": {},
   "outputs": [
    {
     "name": "stdout",
     "output_type": "stream",
     "text": [
      "Step 10\n",
      "array('i', [21, 20, 12, 11, 10, 11, 1, 2, 3, 4, 5, 6, 10, 12, 20, 21])\n"
     ]
    }
   ],
   "source": [
    "# 10. Reverse a python array using reverse() method\n",
    "print(\"Step 10\")\n",
    "my_array.reverse()\n",
    "print(my_array)"
   ]
  },
  {
   "cell_type": "code",
   "execution_count": 12,
   "id": "6804b9d9",
   "metadata": {},
   "outputs": [
    {
     "name": "stdout",
     "output_type": "stream",
     "text": [
      "Step 11\n",
      "(2788466848560, 16)\n"
     ]
    }
   ],
   "source": [
    "# 11. Get array buffer information through buffer_info() method\n",
    "print(\"Step 11\")\n",
    "print(my_array.buffer_info())"
   ]
  },
  {
   "cell_type": "code",
   "execution_count": 13,
   "id": "a9effb9e",
   "metadata": {},
   "outputs": [
    {
     "name": "stdout",
     "output_type": "stream",
     "text": [
      "Step 12\n",
      "3\n",
      "array('i', [21, 20, 12, 11, 10, 11, 1, 2, 3, 4, 5, 6, 10, 12, 20, 21, 11])\n"
     ]
    }
   ],
   "source": [
    "# 12. Check for number of occurrences of an element using count() method\n",
    "print(\"Step 12\")\n",
    "my_array.append(11)\n",
    "print(my_array.count(11))\n",
    "print(my_array)"
   ]
  },
  {
   "cell_type": "code",
   "execution_count": 14,
   "id": "9c63fcce",
   "metadata": {},
   "outputs": [
    {
     "name": "stdout",
     "output_type": "stream",
     "text": [
      "Step 13\n"
     ]
    },
    {
     "ename": "AttributeError",
     "evalue": "'array.array' object has no attribute 'tostring'",
     "output_type": "error",
     "traceback": [
      "\u001b[1;31m---------------------------------------------------------------------------\u001b[0m",
      "\u001b[1;31mAttributeError\u001b[0m                            Traceback (most recent call last)",
      "Input \u001b[1;32mIn [14]\u001b[0m, in \u001b[0;36m<cell line: 3>\u001b[1;34m()\u001b[0m\n\u001b[0;32m      1\u001b[0m \u001b[38;5;66;03m# 13. Convert array to string using tostring() method\u001b[39;00m\n\u001b[0;32m      2\u001b[0m \u001b[38;5;28mprint\u001b[39m(\u001b[38;5;124m\"\u001b[39m\u001b[38;5;124mStep 13\u001b[39m\u001b[38;5;124m\"\u001b[39m)\n\u001b[1;32m----> 3\u001b[0m strTemp \u001b[38;5;241m=\u001b[39m \u001b[43mmy_array\u001b[49m\u001b[38;5;241;43m.\u001b[39;49m\u001b[43mtostring\u001b[49m()\n\u001b[0;32m      4\u001b[0m \u001b[38;5;28mprint\u001b[39m(strTemp)\n\u001b[0;32m      5\u001b[0m ints \u001b[38;5;241m=\u001b[39m array(\u001b[38;5;124m'\u001b[39m\u001b[38;5;124mi\u001b[39m\u001b[38;5;124m'\u001b[39m)\n",
      "\u001b[1;31mAttributeError\u001b[0m: 'array.array' object has no attribute 'tostring'"
     ]
    }
   ],
   "source": [
    "# 13. Convert array to string using tostring() method\n",
    "print(\"Step 13\")\n",
    "strTemp = my_array.tostring()\n",
    "print(strTemp)\n",
    "ints = array('i')\n",
    "ints.fromstring(strTemp)\n",
    "print(ints)"
   ]
  },
  {
   "cell_type": "code",
   "execution_count": 15,
   "id": "f3596fd0",
   "metadata": {},
   "outputs": [
    {
     "name": "stdout",
     "output_type": "stream",
     "text": [
      "Step 14\n"
     ]
    }
   ],
   "source": [
    "# 14. Convert array to a python list with same elements using tolist() method\n",
    "print(\"Step 14\")"
   ]
  },
  {
   "cell_type": "code",
   "execution_count": 16,
   "id": "0c581b2a",
   "metadata": {},
   "outputs": [
    {
     "name": "stdout",
     "output_type": "stream",
     "text": [
      "Step 16\n",
      "array('i', [21, 20, 12, 11, 10, 11, 1, 2, 3, 4, 5, 6, 10, 12, 20, 21, 11])\n"
     ]
    }
   ],
   "source": [
    "# 16. Slice Elements from an array\n",
    "print(\"Step 16\")\n",
    "print(my_array[:])\n"
   ]
  },
  {
   "cell_type": "code",
   "execution_count": null,
   "id": "1a084cb4",
   "metadata": {},
   "outputs": [],
   "source": []
  }
 ],
 "metadata": {
  "kernelspec": {
   "display_name": "Python 3 (ipykernel)",
   "language": "python",
   "name": "python3"
  },
  "language_info": {
   "codemirror_mode": {
    "name": "ipython",
    "version": 3
   },
   "file_extension": ".py",
   "mimetype": "text/x-python",
   "name": "python",
   "nbconvert_exporter": "python",
   "pygments_lexer": "ipython3",
   "version": "3.9.12"
  }
 },
 "nbformat": 4,
 "nbformat_minor": 5
}
